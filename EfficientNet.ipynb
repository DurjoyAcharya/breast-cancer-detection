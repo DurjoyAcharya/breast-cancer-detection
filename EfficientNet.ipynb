{
  "cells": [
    {
      "cell_type": "markdown",
      "metadata": {
        "id": "view-in-github",
        "colab_type": "text"
      },
      "source": [
        "<a href=\"https://colab.research.google.com/github/DurjoyAcharya/breast-cancer-detection/blob/main/EfficientNet.ipynb\" target=\"_parent\"><img src=\"https://colab.research.google.com/assets/colab-badge.svg\" alt=\"Open In Colab\"/></a>"
      ]
    },
    {
      "cell_type": "code",
      "execution_count": 34,
      "metadata": {
        "id": "Z0gTb3xmlJ4C"
      },
      "outputs": [],
      "source": [
        "import matplotlib.pyplot as plt\n",
        "from tensorflow.keras.preprocessing.image import load_img, img_to_array\n",
        "from tensorflow.keras.applications.densenet import preprocess_input\n",
        "from sklearn.model_selection import train_test_split\n",
        "from tensorflow.keras.applications import DenseNet121\n",
        "from tensorflow.keras.models import Sequential\n",
        "from tensorflow.keras.layers import Dense, GlobalAveragePooling2D, Dropout\n",
        "from tensorflow.keras.optimizers import Adam\n",
        "from tensorflow.keras.callbacks import LearningRateScheduler, EarlyStopping\n",
        "from sklearn.metrics import confusion_matrix\n",
        "import seaborn as sns\n",
        "from tensorflow.keras.applications import InceptionV3\n",
        "import matplotlib.pyplot as plt\n",
        "import tensorflow as tf\n",
        "import numpy as np\n",
        "import cv2\n",
        "import random\n",
        "import os"
      ]
    },
    {
      "cell_type": "code",
      "execution_count": 35,
      "metadata": {
        "colab": {
          "base_uri": "https://localhost:8080/"
        },
        "id": "GjUbWb2xlQSM",
        "outputId": "a49f9bba-d1a1-4eac-dd6c-f706cfbb2e1b"
      },
      "outputs": [
        {
          "output_type": "stream",
          "name": "stdout",
          "text": [
            "/content/drive/MyDrive/SP/UltraSoundDataset\n",
            "['benign', 'malignant', 'normal']\n"
          ]
        }
      ],
      "source": [
        "Allocation = \"/content/drive/MyDrive/SP/UltraSoundDataset\"\n",
        "Groups = ['benign', 'malignant', 'normal']\n",
        "print(Allocation)\n",
        "print(Groups)"
      ]
    },
    {
      "cell_type": "code",
      "execution_count": 36,
      "metadata": {
        "id": "Q4gj5LOwlSs9"
      },
      "outputs": [],
      "source": [
        "IMAGE_SIZE = (128, 128)"
      ]
    },
    {
      "cell_type": "code",
      "execution_count": 37,
      "metadata": {
        "id": "_NbjgwxBlU2Q"
      },
      "outputs": [],
      "source": [
        "data = []\n",
        "CATEGORIES = sorted(list(os.listdir(Allocation)))\n",
        "for category in CATEGORIES:\n",
        "  folder = os.path.join(Allocation, category)\n",
        "  label = CATEGORIES.index(category)\n",
        "  for img in os.listdir(folder):\n",
        "    img_path = os.path.join(folder, img)\n",
        "    img_arr = cv2.imread(img_path)\n",
        "    img_arr = cv2.resize(img_arr, IMAGE_SIZE)\n",
        "    data.append([img_arr, label])\n",
        "\n",
        "random.shuffle(data)"
      ]
    },
    {
      "cell_type": "code",
      "execution_count": 38,
      "metadata": {
        "id": "Mi1oXI1ZlkD5"
      },
      "outputs": [],
      "source": [
        "from sklearn.model_selection import train_test_split\n",
        "X, y = zip(*data)\n",
        "X_train, X_test, y_train, y_test = train_test_split(X, y, test_size=0.2, random_state=42)\n",
        "\n",
        "X_train = [cv2.resize(img, IMAGE_SIZE) for img in X_train]\n",
        "X_test = [cv2.resize(img, IMAGE_SIZE) for img in X_test]"
      ]
    },
    {
      "cell_type": "code",
      "execution_count": 39,
      "metadata": {
        "id": "rTTSHHiilvoY"
      },
      "outputs": [],
      "source": [
        "X_train = np.array(X_train, dtype=np.float32) / 255.0\n",
        "y_train = np.array(y_train)\n",
        "X_test = np.array(X_test, dtype=np.float32) / 255.0\n",
        "y_test = np.array(y_test)"
      ]
    },
    {
      "cell_type": "code",
      "execution_count": 40,
      "metadata": {
        "id": "0vY6qUTrl66x"
      },
      "outputs": [],
      "source": [
        "data_augmentation = tf.keras.Sequential([\n",
        "    tf.keras.layers.experimental.preprocessing.RandomZoom(0.1)\n",
        "])"
      ]
    },
    {
      "cell_type": "code",
      "execution_count": 41,
      "metadata": {
        "id": "m6tfDiyXncSI"
      },
      "outputs": [],
      "source": [
        "from keras.applications import VGG19"
      ]
    },
    {
      "cell_type": "code",
      "execution_count": 42,
      "metadata": {
        "id": "whYI14Exl8fb"
      },
      "outputs": [],
      "source": [
        "base_model = VGG19(weights='imagenet', include_top=False, input_shape=(128, 128, 3), pooling = 'avg')\n",
        "\n",
        "# Freeze the layers of the pre-trained model\n",
        "for layer in base_model.layers:\n",
        "    layer.trainable = False"
      ]
    },
    {
      "cell_type": "code",
      "execution_count": 43,
      "metadata": {
        "id": "TI7794xHl9EO"
      },
      "outputs": [],
      "source": [
        "# Create a custom classification head\n",
        "custom_head = tf.keras.Sequential([\n",
        "#     tf.keras.layers.GlobalAveragePooling2D(),\n",
        "    tf.keras.layers.Dense(1024, activation='relu'),\n",
        "    tf.keras.layers.Dropout(0.4),\n",
        "    tf.keras.layers.Dense(512, activation='relu'),\n",
        "    tf.keras.layers.Dropout(0.4),\n",
        "    tf.keras.layers.Dense(256, activation='relu'),\n",
        "    tf.keras.layers.Dropout(0.4),\n",
        "    tf.keras.layers.Dense(128, activation='relu'),\n",
        "    tf.keras.layers.Dropout(0.4),\n",
        "    tf.keras.layers.Dense(3, activation='softmax')\n",
        "])\n",
        "\n",
        "# Combine the base model and custom head\n",
        "dn = Sequential([data_augmentation, base_model, custom_head])"
      ]
    },
    {
      "cell_type": "code",
      "execution_count": 44,
      "metadata": {
        "id": "igifki2Yl9G2"
      },
      "outputs": [],
      "source": [
        "# Define a learning rate schedule lambda function\n",
        "lr_schedule = lambda epoch: 0.001 if epoch < 10 else (0.0001 if epoch < 20 else 0.00001)\n",
        "\n",
        "# Create a learning rate scheduler callback using the lambda function\n",
        "lr_scheduler = LearningRateScheduler(lr_schedule)"
      ]
    },
    {
      "cell_type": "code",
      "execution_count": 45,
      "metadata": {
        "id": "9MIS8lXwn_3p"
      },
      "outputs": [],
      "source": [
        "# Define early stopping callback\n",
        "early_stopping = EarlyStopping(monitor='val_loss', patience=15, restore_best_weights=True)\n",
        "\n",
        "# Use the callbacks during model training\n",
        "dn.compile(optimizer='Adam', loss='sparse_categorical_crossentropy', metrics=['accuracy'])"
      ]
    },
    {
      "cell_type": "code",
      "execution_count": null,
      "metadata": {
        "colab": {
          "base_uri": "https://localhost:8080/"
        },
        "id": "IS5Jn0vPn_-t",
        "outputId": "7748133d-d3e1-4a46-ed28-14d8b1c3816b"
      },
      "outputs": [
        {
          "output_type": "stream",
          "name": "stdout",
          "text": [
            "Epoch 1/30\n",
            "4/8 [==============>...............] - ETA: 2:03 - loss: 1.1053 - accuracy: 0.4551"
          ]
        }
      ],
      "source": [
        "history = dn.fit(X_train, y_train, epochs=30, batch_size=128, validation_split=0.2, callbacks=[early_stopping, lr_scheduler])\n",
        "dn.summary()"
      ]
    },
    {
      "cell_type": "code",
      "execution_count": null,
      "metadata": {
        "id": "AgS3oPj06-YM"
      },
      "outputs": [],
      "source": []
    },
    {
      "cell_type": "code",
      "execution_count": null,
      "metadata": {
        "id": "P6TbRSBz6-uM"
      },
      "outputs": [],
      "source": []
    },
    {
      "cell_type": "code",
      "execution_count": null,
      "metadata": {
        "id": "a_2XfMZV6-2_"
      },
      "outputs": [],
      "source": []
    },
    {
      "cell_type": "code",
      "execution_count": null,
      "metadata": {
        "id": "IbofqjI86_Ze"
      },
      "outputs": [],
      "source": []
    }
  ],
  "metadata": {
    "colab": {
      "provenance": [],
      "mount_file_id": "15JpEFPcOaL-jGiW8IWOr77gAWRiN_f_s",
      "authorship_tag": "ABX9TyP4/RgprH0a6SV9r4gLcwwF",
      "include_colab_link": true
    },
    "kernelspec": {
      "display_name": "Python 3",
      "name": "python3"
    },
    "language_info": {
      "name": "python"
    }
  },
  "nbformat": 4,
  "nbformat_minor": 0
}