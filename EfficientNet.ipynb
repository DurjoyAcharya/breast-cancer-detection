{
  "nbformat": 4,
  "nbformat_minor": 0,
  "metadata": {
    "colab": {
      "provenance": [],
      "mount_file_id": "15JpEFPcOaL-jGiW8IWOr77gAWRiN_f_s",
      "authorship_tag": "ABX9TyPc/IP6YW2IsiByfcjjUrBn",
      "include_colab_link": true
    },
    "kernelspec": {
      "name": "python3",
      "display_name": "Python 3"
    },
    "language_info": {
      "name": "python"
    }
  },
  "cells": [
    {
      "cell_type": "markdown",
      "metadata": {
        "id": "view-in-github",
        "colab_type": "text"
      },
      "source": [
        "<a href=\"https://colab.research.google.com/github/DurjoyAcharya/breast-cancer-detection/blob/main/EfficientNet.ipynb\" target=\"_parent\"><img src=\"https://colab.research.google.com/assets/colab-badge.svg\" alt=\"Open In Colab\"/></a>"
      ]
    },
    {
      "cell_type": "code",
      "execution_count": 1,
      "metadata": {
        "id": "Z0gTb3xmlJ4C"
      },
      "outputs": [],
      "source": [
        "import matplotlib.pyplot as plt\n",
        "from tensorflow.keras.preprocessing.image import load_img, img_to_array\n",
        "from tensorflow.keras.applications.densenet import preprocess_input\n",
        "from sklearn.model_selection import train_test_split\n",
        "from tensorflow.keras.applications import DenseNet121\n",
        "from tensorflow.keras.models import Sequential\n",
        "from tensorflow.keras.layers import Dense, GlobalAveragePooling2D, Dropout\n",
        "from tensorflow.keras.optimizers import Adam\n",
        "from tensorflow.keras.callbacks import LearningRateScheduler, EarlyStopping\n",
        "from sklearn.metrics import confusion_matrix\n",
        "import seaborn as sns\n",
        "from tensorflow.keras.applications import InceptionV3\n",
        "import matplotlib.pyplot as plt\n",
        "import tensorflow as tf\n",
        "import numpy as np\n",
        "import cv2\n",
        "import random\n",
        "import os"
      ]
    },
    {
      "cell_type": "code",
      "source": [
        "Allocation = \"/content/drive/MyDrive/SP/UltraSoundDataset\"\n",
        "Groups = ['benign', 'malignant', 'normal']\n",
        "print(Allocation)\n",
        "print(Groups)"
      ],
      "metadata": {
        "colab": {
          "base_uri": "https://localhost:8080/"
        },
        "id": "GjUbWb2xlQSM",
        "outputId": "70e44734-9dff-401c-f1db-3d91ab13a17d"
      },
      "execution_count": 5,
      "outputs": [
        {
          "output_type": "stream",
          "name": "stdout",
          "text": [
            "/content/drive/MyDrive/SP/UltraSoundDataset\n",
            "['benign', 'malignant', 'normal']\n"
          ]
        }
      ]
    },
    {
      "cell_type": "code",
      "source": [
        "IMAGE_SIZE = (128, 128)"
      ],
      "metadata": {
        "id": "Q4gj5LOwlSs9"
      },
      "execution_count": 6,
      "outputs": []
    },
    {
      "cell_type": "code",
      "source": [
        "data = []\n",
        "CATEGORIES = sorted(list(os.listdir(Allocation)))\n",
        "for category in CATEGORIES:\n",
        "  folder = os.path.join(Allocation, category)\n",
        "  label = CATEGORIES.index(category)\n",
        "  for img in os.listdir(folder):\n",
        "    img_path = os.path.join(folder, img)\n",
        "    img_arr = cv2.imread(img_path)\n",
        "    img_arr = cv2.resize(img_arr, IMAGE_SIZE)\n",
        "    data.append([img_arr, label])\n",
        "\n",
        "random.shuffle(data)"
      ],
      "metadata": {
        "id": "_NbjgwxBlU2Q"
      },
      "execution_count": 8,
      "outputs": []
    },
    {
      "cell_type": "code",
      "source": [
        "from sklearn.model_selection import train_test_split\n",
        "X, y = zip(*data)\n",
        "X_train, X_test, y_train, y_test = train_test_split(X, y, test_size=0.2, random_state=42)\n",
        "\n",
        "X_train = [cv2.resize(img, IMAGE_SIZE) for img in X_train]\n",
        "X_test = [cv2.resize(img, IMAGE_SIZE) for img in X_test]"
      ],
      "metadata": {
        "id": "Mi1oXI1ZlkD5"
      },
      "execution_count": 17,
      "outputs": []
    },
    {
      "cell_type": "code",
      "source": [
        "X_train = np.array(X_train, dtype=np.float32) / 255.0\n",
        "y_train = np.array(y_train)\n",
        "X_test = np.array(X_test, dtype=np.float32) / 255.0\n",
        "y_test = np.array(y_test)"
      ],
      "metadata": {
        "id": "rTTSHHiilvoY"
      },
      "execution_count": 18,
      "outputs": []
    },
    {
      "cell_type": "code",
      "source": [
        "data_augmentation = tf.keras.Sequential([\n",
        "    tf.keras.layers.experimental.preprocessing.RandomZoom(0.1)\n",
        "])"
      ],
      "metadata": {
        "id": "0vY6qUTrl66x"
      },
      "execution_count": 20,
      "outputs": []
    },
    {
      "cell_type": "code",
      "source": [
        "from keras.applications import ResNet50"
      ],
      "metadata": {
        "id": "m6tfDiyXncSI"
      },
      "execution_count": 21,
      "outputs": []
    },
    {
      "cell_type": "code",
      "source": [
        "base_model = ResNet50(weights='imagenet', include_top=False, input_shape=(128, 128, 3), pooling = 'avg')\n",
        "\n",
        "# Freeze the layers of the pre-trained model\n",
        "for layer in base_model.layers:\n",
        "    layer.trainable = False"
      ],
      "metadata": {
        "colab": {
          "base_uri": "https://localhost:8080/"
        },
        "id": "whYI14Exl8fb",
        "outputId": "a030ea54-65ce-464b-d54e-a354a0f3622b"
      },
      "execution_count": 22,
      "outputs": [
        {
          "output_type": "stream",
          "name": "stdout",
          "text": [
            "Downloading data from https://storage.googleapis.com/tensorflow/keras-applications/resnet/resnet50_weights_tf_dim_ordering_tf_kernels_notop.h5\n",
            "94765736/94765736 [==============================] - 1s 0us/step\n"
          ]
        }
      ]
    },
    {
      "cell_type": "code",
      "source": [
        "# Create a custom classification head\n",
        "custom_head = tf.keras.Sequential([\n",
        "#     tf.keras.layers.GlobalAveragePooling2D(),\n",
        "    tf.keras.layers.Dense(1024, activation='relu'),\n",
        "    tf.keras.layers.Dropout(0.4),\n",
        "    tf.keras.layers.Dense(512, activation='relu'),\n",
        "    tf.keras.layers.Dropout(0.4),\n",
        "    tf.keras.layers.Dense(256, activation='relu'),\n",
        "    tf.keras.layers.Dropout(0.4),\n",
        "    tf.keras.layers.Dense(128, activation='relu'),\n",
        "    tf.keras.layers.Dropout(0.4),\n",
        "    tf.keras.layers.Dense(3, activation='softmax')\n",
        "])\n",
        "\n",
        "# Combine the base model and custom head\n",
        "dn = Sequential([data_augmentation, base_model, custom_head])"
      ],
      "metadata": {
        "id": "TI7794xHl9EO"
      },
      "execution_count": 23,
      "outputs": []
    },
    {
      "cell_type": "code",
      "source": [
        "# Define a learning rate schedule lambda function\n",
        "lr_schedule = lambda epoch: 0.001 if epoch < 10 else (0.0001 if epoch < 20 else 0.00001)\n",
        "\n",
        "# Create a learning rate scheduler callback using the lambda function\n",
        "lr_scheduler = LearningRateScheduler(lr_schedule)"
      ],
      "metadata": {
        "id": "igifki2Yl9G2"
      },
      "execution_count": 24,
      "outputs": []
    },
    {
      "cell_type": "code",
      "source": [
        "# Define early stopping callback\n",
        "early_stopping = EarlyStopping(monitor='val_loss', patience=15, restore_best_weights=True)\n",
        "\n",
        "# Use the callbacks during model training\n",
        "dn.compile(optimizer='Adam', loss='sparse_categorical_crossentropy', metrics=['accuracy'])"
      ],
      "metadata": {
        "id": "9MIS8lXwn_3p"
      },
      "execution_count": 25,
      "outputs": []
    },
    {
      "cell_type": "code",
      "source": [
        "history = dn.fit(X_train, y_train, epochs=60, batch_size=128, validation_split=0.2, callbacks=[early_stopping, lr_scheduler])\n",
        "dn.summary()"
      ],
      "metadata": {
        "colab": {
          "base_uri": "https://localhost:8080/"
        },
        "id": "IS5Jn0vPn_-t",
        "outputId": "a8c007cb-da91-4c02-a834-c57a19fcd379"
      },
      "execution_count": null,
      "outputs": [
        {
          "output_type": "stream",
          "name": "stdout",
          "text": [
            "Epoch 1/60\n",
            "8/8 [==============================] - 96s 11s/step - loss: 1.1565 - accuracy: 0.4549 - val_loss: 1.0006 - val_accuracy: 0.5415 - lr: 0.0010\n",
            "Epoch 2/60\n",
            "8/8 [==============================] - ETA: 0s - loss: 1.0374 - accuracy: 0.5421"
          ]
        }
      ]
    }
  ]
}